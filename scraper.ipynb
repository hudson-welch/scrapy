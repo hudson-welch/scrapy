{
 "cells": [
  {
   "cell_type": "markdown",
   "metadata": {},
   "source": [
    "# purpose\n",
    "\n",
    "The purpose of this notebook is to develop an automated scraper for a variety of key words"
   ]
  },
  {
   "cell_type": "raw",
   "metadata": {},
   "source": [
    "# reference code\n",
    "import requests\n",
    "from bs4 import BeautifulSoup\n",
    "import re\n",
    "search = input(\"Search:\")\n",
    "results = 5 # valid options 10, 20, 30, 40, 50, and 100\n",
    "page = requests.get(f\"https://www.google.com/search?q={search}&num={results}\")\n",
    "soup = BeautifulSoup(page.content, \"html5lib\")\n",
    "links = soup.findAll(\"a\")\n",
    "for link in links :\n",
    "    link_href = link.get('href')\n",
    "    if \"url?q=\" in link_href and not \"webcache\" in link_href:\n",
    "        print (link.get('href').split(\"?q=\")[1].split(\"&sa=U\")[0])"
   ]
  },
  {
   "cell_type": "code",
   "execution_count": 64,
   "metadata": {},
   "outputs": [],
   "source": [
    "import requests\n",
    "from bs4 import BeautifulSoup\n",
    "import re"
   ]
  },
  {
   "cell_type": "code",
   "execution_count": 79,
   "metadata": {},
   "outputs": [],
   "source": [
    "def get_links(search='Eurydice', results = 10):\n",
    "    sauce = requests.get(f\"https://www.google.com/search?q={search}&num={results}\")\n",
    "    soup = BeautifulSoup(sauce.content, \"html5lib\")\n",
    "    links = soup.findAll(\"a\")\n",
    "    olinks = []\n",
    "    for link in links:\n",
    "        link_href = link.get('href')\n",
    "        if \"url?q=\" in link_href and not \"webcache\" in link_href:\n",
    "            #print (link.get('href').split(\"?q=\")[1].split(\"&sa=U\")[0])\n",
    "            olinks.append(link.get('href').split(\"?q=\")[1].split(\"&sa=U\")[0])\n",
    "    return olinks\n",
    "            \n",
    "#olinks = get_links()       "
   ]
  },
  {
   "cell_type": "code",
   "execution_count": 80,
   "metadata": {},
   "outputs": [
    {
     "data": {
      "text/plain": [
       "['https://www.greekmythology.com/Myths/Mortals/Orpheus/orpheus.html',\n",
       " 'https://support.google.com/websearch%3Fp%3Dfeatured_snippets%26hl%3Den-US&usg=AOvVaw05Cv9U2FQuT51F3jV-sQm_',\n",
       " 'https://en.wikipedia.org/wiki/Orpheus',\n",
       " 'https://en.wikipedia.org/wiki/Orpheus_and_Eurydice',\n",
       " 'https://en.wikipedia.org/wiki/Orpheus_(film)']"
      ]
     },
     "execution_count": 80,
     "metadata": {},
     "output_type": "execute_result"
    }
   ],
   "source": [
    "olinks = get_links(search='Orpheus')\n",
    "olinks[0:5]"
   ]
  },
  {
   "cell_type": "code",
   "execution_count": 69,
   "metadata": {},
   "outputs": [
    {
     "name": "stdout",
     "output_type": "stream",
     "text": [
      "/Users/williamwelch/Google Drive/beautifulsoup\r\n"
     ]
    }
   ],
   "source": [
    "!pwd"
   ]
  },
  {
   "cell_type": "markdown",
   "metadata": {},
   "source": [
    "# reading a google sheet\n",
    "Not sure this is worth it.   Just download sheet to .csv"
   ]
  },
  {
   "cell_type": "markdown",
   "metadata": {},
   "source": [
    "https://colab.research.google.com/notebooks/intro.ipynb#scrollTo=C4HZx7Gndbrh\n",
    "\n",
    "need to install \n",
    "pip install google-colab\n"
   ]
  },
  {
   "cell_type": "raw",
   "metadata": {},
   "source": [
    "from google.colab import auth\n",
    "auth.authenticate_user()\n",
    "import requests\n",
    "import gspread\n",
    "from oauth2client.client import GoogleCredentials\n"
   ]
  },
  {
   "cell_type": "raw",
   "metadata": {},
   "source": [
    "gc = gspread.authorize(GoogleCredentials.get_application_default())"
   ]
  },
  {
   "cell_type": "code",
   "execution_count": null,
   "metadata": {},
   "outputs": [],
   "source": []
  }
 ],
 "metadata": {
  "kernelspec": {
   "display_name": "Python 3",
   "language": "python",
   "name": "python3"
  },
  "language_info": {
   "codemirror_mode": {
    "name": "ipython",
    "version": 3
   },
   "file_extension": ".py",
   "mimetype": "text/x-python",
   "name": "python",
   "nbconvert_exporter": "python",
   "pygments_lexer": "ipython3",
   "version": "3.8.3"
  }
 },
 "nbformat": 4,
 "nbformat_minor": 4
}
